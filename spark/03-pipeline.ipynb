{
 "cells": [
  {
   "cell_type": "code",
   "execution_count": 1,
   "metadata": {},
   "outputs": [],
   "source": [
    "from mlrun.run import new_function,code_to_function\n",
    "from mlrun import get_or_create_ctx\n",
    "from mlrun import mount_v3io,NewTask,mlconf"
   ]
  },
  {
   "cell_type": "code",
   "execution_count": 2,
   "metadata": {},
   "outputs": [],
   "source": [
    "docker_registry = 'docker-registry.default-tenant.app.mdl1231.iguazio-cd2.com:80'"
   ]
  },
  {
   "cell_type": "code",
   "execution_count": 3,
   "metadata": {},
   "outputs": [],
   "source": [
    "#fn = new_function(command='spark://marcelo/sparkk8s#local:///User/spark-jdbc.py')\n",
    "pyscript = \"/User/mlrun_demos/spark/train.py\""
   ]
  },
  {
   "cell_type": "code",
   "execution_count": 4,
   "metadata": {},
   "outputs": [],
   "source": [
    "fn = new_function(kind='spark',name='iris-trainer',command='urihoenig/spark-app:2.4.4-2.9.0-0.0.2#local://'+ pyscript)\n",
    "fn.with_limits(mem=\"512m\")\n",
    "fn.with_requests(cpu=1)"
   ]
  },
  {
   "cell_type": "code",
   "execution_count": 5,
   "metadata": {},
   "outputs": [],
   "source": [
    "fn.spec.rundb = 'http://mlrun-api:8080'\n",
    "mlconf.dbpath = 'http://mlrun-api:8080'\n",
    "fn.with_igz_spark('2.8_b3506_20191217042239')\n",
    "fn.spec.env += [{'name': 'MLRUN_DBPATH','value':'http://mlrun-api:8080'}]"
   ]
  },
  {
   "cell_type": "code",
   "execution_count": 6,
   "metadata": {},
   "outputs": [
    {
     "data": {
      "text/plain": [
       "<mlrun.runtimes.sparkjob.SparkRuntime at 0x7fe2d09bf128>"
      ]
     },
     "execution_count": 6,
     "metadata": {},
     "output_type": "execute_result"
    }
   ],
   "source": [
    "fn.apply(mount_v3io())"
   ]
  },
  {
   "cell_type": "code",
   "execution_count": 7,
   "metadata": {},
   "outputs": [
    {
     "name": "stdout",
     "output_type": "stream",
     "text": [
      "kind: spark\n",
      "metadata:\n",
      "  name: iris-trainer\n",
      "  project: default\n",
      "spec:\n",
      "  command: local:///User/mlrun_demos/spark/train.py\n",
      "  args: []\n",
      "  image: urihoenig/spark-app:2.4.4-2.9.0-0.0.2\n",
      "  volumes:\n",
      "  - flexVolume:\n",
      "      driver: v3io/fuse\n",
      "      options:\n",
      "        accessKey: ed6d0bd0-7bd9-4eb2-b122-676dff4fe912\n",
      "        container: ''\n",
      "        subPath: ''\n",
      "    name: v3io-fuse\n",
      "  - hostPath:\n",
      "      path: /dev/shm/default-tenant\n",
      "      type: ''\n",
      "    name: shm\n",
      "  - hostPath:\n",
      "      path: /var/run/iguazio/dayman/default-tenant\n",
      "      type: ''\n",
      "    name: v3iod-comm\n",
      "  - emptyDir: {}\n",
      "    name: daemon-health\n",
      "  - configMap:\n",
      "      defaultMode: 420\n",
      "      name: spark-operator-v3io-config\n",
      "    name: v3io-config\n",
      "  - flexVolume:\n",
      "      driver: v3io/fuse\n",
      "      options:\n",
      "        accessKey: ed6d0bd0-7bd9-4eb2-b122-676dff4fe912\n",
      "        container: users\n",
      "        subPath: /admin\n",
      "    name: v3io\n",
      "  volume_mounts:\n",
      "  - mountPath: /v3io\n",
      "    name: v3io-fuse\n",
      "  - mountPath: /dev/shm\n",
      "    name: shm\n",
      "  - mountPath: /var/run/iguazio/dayman\n",
      "    name: v3iod-comm\n",
      "  - mountPath: /var/run/iguazio/daemon_health\n",
      "    name: daemon-health\n",
      "  - mountPath: /etc/config/v3io\n",
      "    name: v3io-config\n",
      "  - mountPath: /User\n",
      "    name: v3io\n",
      "  env:\n",
      "  - name: V3IO_API\n",
      "    value: v3io-webapi.default-tenant.svc:8081\n",
      "  - name: V3IO_USERNAME\n",
      "    value: admin\n",
      "  - name: V3IO_ACCESS_KEY\n",
      "    value: ed6d0bd0-7bd9-4eb2-b122-676dff4fe912\n",
      "  - name: CURRENT_NODE_IP\n",
      "    valueFrom:\n",
      "      fieldRef:\n",
      "        apiVersion: v1\n",
      "        fieldPath: status.hostIP\n",
      "  - name: IGZ_DATA_CONFIG_FILE\n",
      "    value: /igz/java/conf/v3io.conf\n",
      "  - name: MLRUN_DBPATH\n",
      "    value: http://mlrun-api:8080\n",
      "  - name: V3IO_API\n",
      "    value: v3io-webapi.default-tenant.svc:8081\n",
      "  - name: V3IO_USERNAME\n",
      "    value: admin\n",
      "  - name: V3IO_ACCESS_KEY\n",
      "    value: ed6d0bd0-7bd9-4eb2-b122-676dff4fe912\n",
      "  resources:\n",
      "    limits:\n",
      "      memory: 512m\n",
      "    requests:\n",
      "      cpu: 1\n",
      "  deps:\n",
      "    jars:\n",
      "    - /igz/java/libs/v3io-hcfs_2.11-2.8_b3506_20191217042239.jar\n",
      "    - /igz/java/libs/v3io-spark2-streaming_2.11-2.8_b3506_20191217042239.jar\n",
      "    - /igz/java/libs/v3io-spark2-object-dataframe_2.11-2.8_b3506_20191217042239.jar\n",
      "    - /igz/java/libs/scala-library-2.11.12.jar\n",
      "    files:\n",
      "    - /igz/java/libs/v3io-py-2.8_b3506_20191217042239.zip\n",
      "\n"
     ]
    }
   ],
   "source": [
    "print(fn.to_yaml())\n"
   ]
  },
  {
   "cell_type": "code",
   "execution_count": 8,
   "metadata": {},
   "outputs": [],
   "source": [
    "#task = NewTask(name='iris-trainer',out_path='/User/mlrun-data/data').with_params(train_data=\"file:///User/mlrun_demos/spark/data/iris.csv\").with_hyper_params({\"regularization_rate\":[0.02,0.01,0.03],},'max.accuracy')\n",
    "task = NewTask(name='iris-trainer',\n",
    "               out_path='/User/mlrun-data/data').with_params(train_data=\"file:///User/mlrun_demos/spark/data/iris.csv\",\n",
    "                                                             regularization_rate=0.1)\n"
   ]
  },
  {
   "cell_type": "code",
   "execution_count": 9,
   "metadata": {},
   "outputs": [
    {
     "name": "stdout",
     "output_type": "stream",
     "text": [
      "spec:\n",
      "  parameters:\n",
      "    train_data: file:///User/mlrun_demos/spark/data/iris.csv\n",
      "    regularization_rate: 0.1\n",
      "  outputs: []\n",
      "  output_path: /User/mlrun-data/data\n",
      "  secret_sources: []\n",
      "metadata:\n",
      "  name: iris-trainer\n",
      "  iteration: 0\n",
      "\n"
     ]
    }
   ],
   "source": [
    "print(task.to_yaml())"
   ]
  },
  {
   "cell_type": "code",
   "execution_count": 10,
   "metadata": {},
   "outputs": [
    {
     "name": "stdout",
     "output_type": "stream",
     "text": [
      "[mlrun] 2020-01-02 19:55:29,875 starting run iris-trainer uid=dc0e223a962a410ba8d5659e3d1faa9f  -> http://mlrun-api:8080\n"
     ]
    },
    {
     "data": {
      "text/html": [
       "<style> \n",
       ".dictlist {\n",
       "  background-color: #b3edff; \n",
       "  text-align: center; \n",
       "  margin: 4px; \n",
       "  border-radius: 3px; padding: 0px 3px 1px 3px; display: inline-block;}\n",
       ".artifact {\n",
       "  cursor: pointer; \n",
       "  background-color: #ffe6cc; \n",
       "  text-align: left; \n",
       "  margin: 4px; border-radius: 3px; padding: 0px 3px 1px 3px; display: inline-block;\n",
       "}\n",
       "div.block.hidden {\n",
       "  display: none;\n",
       "}\n",
       ".clickable {\n",
       "  cursor: pointer;\n",
       "}\n",
       ".ellipsis {\n",
       "  display: inline-block;\n",
       "  max-width: 60px;\n",
       "  white-space: nowrap;\n",
       "  overflow: hidden;\n",
       "  text-overflow: ellipsis;\n",
       "}\n",
       ".master-wrapper {\n",
       "  display: flex;\n",
       "  flex-flow: row nowrap;\n",
       "  justify-content: flex-start;\n",
       "  align-items: stretch;\n",
       "}\n",
       ".master-tbl {\n",
       "  flex: 3\n",
       "}\n",
       ".master-wrapper > div {\n",
       "  margin: 4px;\n",
       "  padding: 10px;\n",
       "}\n",
       "iframe.fileview {\n",
       "  border: 0 none;\n",
       "  height: 100%;\n",
       "  width: 100%;\n",
       "  white-space: pre-wrap;\n",
       "}\n",
       ".pane-header-title {\n",
       "  width: 80%;\n",
       "  font-weight: 500;\n",
       "}\n",
       ".pane-header {\n",
       "  line-height: 1;\n",
       "  background-color: #ffe6cc;\n",
       "  padding: 3px;\n",
       "}\n",
       ".pane-header .close {\n",
       "  font-size: 20px;\n",
       "  font-weight: 700;\n",
       "  float: right;\n",
       "  margin-top: -5px;\n",
       "}\n",
       ".master-wrapper .right-pane {\n",
       "  border: 1px inset silver;\n",
       "  width: 40%;\n",
       "  min-height: 300px;\n",
       "  flex: 3\n",
       "  min-width: 500px;\n",
       "}\n",
       ".master-wrapper * {\n",
       "  box-sizing: border-box;\n",
       "}\n",
       "</style><script>\n",
       "function copyToClipboard(fld) {\n",
       "    if (document.queryCommandSupported && document.queryCommandSupported('copy')) {\n",
       "        var textarea = document.createElement('textarea');\n",
       "        textarea.textContent = fld.innerHTML;\n",
       "        textarea.style.position = 'fixed';\n",
       "        document.body.appendChild(textarea);\n",
       "        textarea.select();\n",
       "\n",
       "        try {\n",
       "            return document.execCommand('copy'); // Security exception may be thrown by some browsers.\n",
       "        } catch (ex) {\n",
       "\n",
       "        } finally {\n",
       "            document.body.removeChild(textarea);\n",
       "        }\n",
       "    }\n",
       "}\n",
       "function expandPanel(el) {\n",
       "  const panelName = \"#\" + el.getAttribute('paneName');\n",
       "  console.log(el.title);\n",
       "\n",
       "  document.querySelector(panelName + \"-title\").innerHTML = el.title\n",
       "  iframe = document.querySelector(panelName + \"-body\");\n",
       "  \n",
       "  const tblcss = `<style> body { font-family: Arial, Helvetica, sans-serif;}\n",
       "    #csv { margin-bottom: 15px; }\n",
       "    #csv table { border-collapse: collapse;}\n",
       "    #csv table td { padding: 4px 8px; border: 1px solid silver;} </style>`;\n",
       "\n",
       "  function csvToHtmlTable(str) {\n",
       "    return '<div id=\"csv\"><table><tr><td>' +  str.replace(/[\\n\\r]+$/g, '').replace(/[\\n\\r]+/g, '</td></tr><tr><td>')\n",
       "      .replace(/,/g, '</td><td>') + '</td></tr></table></div>';\n",
       "  }\n",
       "  \n",
       "  function reqListener () {\n",
       "    if (el.title.endsWith(\".csv\")) {\n",
       "      iframe.setAttribute(\"srcdoc\", tblcss + csvToHtmlTable(this.responseText));\n",
       "    } else {\n",
       "      iframe.setAttribute(\"srcdoc\", this.responseText);\n",
       "    }  \n",
       "    console.log(this.responseText);\n",
       "  }\n",
       "\n",
       "  const oReq = new XMLHttpRequest();\n",
       "  oReq.addEventListener(\"load\", reqListener);\n",
       "  oReq.open(\"GET\", el.title);\n",
       "  oReq.send();\n",
       "  \n",
       "  \n",
       "  //iframe.src = el.title;\n",
       "  const resultPane = document.querySelector(panelName + \"-pane\");\n",
       "  if (resultPane.classList.contains(\"hidden\")) {\n",
       "    resultPane.classList.remove(\"hidden\");\n",
       "  }\n",
       "}\n",
       "function closePanel(el) {\n",
       "  const panelName = \"#\" + el.getAttribute('paneName')\n",
       "  const resultPane = document.querySelector(panelName + \"-pane\");\n",
       "  if (!resultPane.classList.contains(\"hidden\")) {\n",
       "    resultPane.classList.add(\"hidden\");\n",
       "  }\n",
       "}\n",
       "\n",
       "</script>\n",
       "<div class=\"master-wrapper\">\n",
       "  <div class=\"block master-tbl\"><div>\n",
       "<style scoped>\n",
       "    .dataframe tbody tr th:only-of-type {\n",
       "        vertical-align: middle;\n",
       "    }\n",
       "\n",
       "    .dataframe tbody tr th {\n",
       "        vertical-align: top;\n",
       "    }\n",
       "\n",
       "    .dataframe thead th {\n",
       "        text-align: right;\n",
       "    }\n",
       "</style>\n",
       "<table border=\"1\" class=\"dataframe\">\n",
       "  <thead>\n",
       "    <tr style=\"text-align: right;\">\n",
       "      <th>uid</th>\n",
       "      <th>iter</th>\n",
       "      <th>start</th>\n",
       "      <th>state</th>\n",
       "      <th>name</th>\n",
       "      <th>labels</th>\n",
       "      <th>inputs</th>\n",
       "      <th>parameters</th>\n",
       "      <th>results</th>\n",
       "      <th>artifacts</th>\n",
       "    </tr>\n",
       "  </thead>\n",
       "  <tbody>\n",
       "    <tr>\n",
       "      <td><div title=\"dc0e223a962a410ba8d5659e3d1faa9f\">...1faa9f</div></td>\n",
       "      <td>0</td>\n",
       "      <td>Jan 02 19:55:29</td>\n",
       "      <td>completed</td>\n",
       "      <td>iris-trainer</td>\n",
       "      <td><div class=\"dictlist\">kind=spark</div><div class=\"dictlist\">owner=admin</div></td>\n",
       "      <td></td>\n",
       "      <td><div class=\"dictlist\">regularization_rate=0.1</div><div class=\"dictlist\">train_data=file:///User/mlrun_demos/spark/data/iris.csv</div></td>\n",
       "      <td></td>\n",
       "      <td></td>\n",
       "    </tr>\n",
       "  </tbody>\n",
       "</table>\n",
       "</div></div>\n",
       "  <div id=\"result8f99c9c8-pane\" class=\"right-pane block hidden\">\n",
       "    <div class=\"pane-header\">\n",
       "      <span id=\"result8f99c9c8-title\" class=\"pane-header-title\">Title</span>\n",
       "      <span onclick=\"closePanel(this)\" paneName=\"result8f99c9c8\" class=\"close clickable\">&times;</span>\n",
       "    </div>\n",
       "    <iframe class=\"fileview\" id=\"result8f99c9c8-body\"></iframe>\n",
       "  </div>\n",
       "</div>\n"
      ],
      "text/plain": [
       "<IPython.core.display.HTML object>"
      ]
     },
     "metadata": {},
     "output_type": "display_data"
    },
    {
     "name": "stdout",
     "output_type": "stream",
     "text": [
      "to track results use .show() or .logs() or in CLI: \n",
      "!mlrun get run dc0e223a962a410ba8d5659e3d1faa9f  , !mlrun logs dc0e223a962a410ba8d5659e3d1faa9f \n",
      "[mlrun] 2020-01-02 19:56:27,478 run executed, status=completed\n"
     ]
    },
    {
     "data": {
      "text/plain": [
       "<mlrun.model.RunObject at 0x7fe2d0a5a898>"
      ]
     },
     "execution_count": 10,
     "metadata": {},
     "output_type": "execute_result"
    }
   ],
   "source": [
    "fn.run(task,watch=False)"
   ]
  },
  {
   "cell_type": "code",
   "execution_count": null,
   "metadata": {},
   "outputs": [],
   "source": [
    "!mlrun get run 3125cee1ec1546d1b15b4a415180c2ba"
   ]
  },
  {
   "cell_type": "code",
   "execution_count": null,
   "metadata": {},
   "outputs": [],
   "source": []
  },
  {
   "cell_type": "code",
   "execution_count": null,
   "metadata": {},
   "outputs": [],
   "source": []
  }
 ],
 "metadata": {
  "kernelspec": {
   "display_name": "Python 3",
   "language": "python",
   "name": "python3"
  },
  "language_info": {
   "codemirror_mode": {
    "name": "ipython",
    "version": 3
   },
   "file_extension": ".py",
   "mimetype": "text/x-python",
   "name": "python",
   "nbconvert_exporter": "python",
   "pygments_lexer": "ipython3",
   "version": "3.6.8"
  }
 },
 "nbformat": 4,
 "nbformat_minor": 4
}
